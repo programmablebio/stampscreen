{
 "cells": [
  {
   "cell_type": "markdown",
   "metadata": {},
   "source": [
    "STAMPScreen Network Scoring\n",
    "\n",
    "Files needed prior to running:\n",
    "\n",
    "* Matrix of STRING gene interactions using Ensembl IDs, downloaded from STRING - STRINGedgematrix_all_ensembl.csv\n",
    "\n",
    "* Dataframe of DEGscores calculated from DGEA output according to STAMPScreen methods, where there is 1 row of DEGscores and columns are genes (column names are Ensembl IDs) - DEGscores.csv"
   ]
  },
  {
   "cell_type": "code",
   "execution_count": 1,
   "metadata": {
    "collapsed": true
   },
   "outputs": [
    {
     "name": "stdout",
     "output_type": "stream",
     "text": [
      "[1] \"20 remaining STRING DEGs in matrix.\"\n",
      "[1] \"All DEGs included in matrix?\"\n",
      "[1] TRUE\n"
     ]
    }
   ],
   "source": [
    "### Filter STRING matrix to only DEGs for scoring only on DEG networks and normalize interaction scores\n",
    "\n",
    "# read in STRING matrix with ensembl IDs\n",
    "all_mat <- read.csv('STRINGedgematrix_all_ensembl.csv')\n",
    "rownames(all_mat) <- all_mat$X\n",
    "all_mat <- all_mat[2:ncol(all_mat)]\n",
    "\n",
    "# read in DEGscores calculated from DGEA output\n",
    "Gds <- read.csv('DEGscores_demo.csv')\n",
    "rownames(Gds) <- Gds$X\n",
    "Gds <- Gds[2:ncol(Gds)]\n",
    "degs <- colnames(Gds)\n",
    "\n",
    "# filter STRING matrix to DEGs\n",
    "idx <- which(colnames(all_mat) %in% degs)\n",
    "mat <- all_mat[idx, idx]\n",
    "print(paste(length(idx), ' remaining STRING DEGs in matrix.', sep=''))\n",
    "\n",
    "# match order of matrix IDs to order of DEGs\n",
    "mat <- mat[order(rownames(mat)), order(colnames(mat))]\n",
    "\n",
    "# check that all genes are in matrix\n",
    "print('All DEGs included in matrix?')\n",
    "print(length(degs) == ncol(mat))\n",
    "\n",
    "# normalize weights\n",
    "x <- c()\n",
    "for (col in 1:ncol(mat)){ # get all nonzero scores to norm by max\n",
    "    x <- c(x, mat[, col][which(mat[, col] > 0)])\n",
    "}\n",
    "\n",
    "# calculate normalized scores\n",
    "mat[mat > 0] <- log10(mat[mat > 0])/max(log10(x))\n",
    "write.csv(mat, 'STRINGedgematrix_ensembl.csv')"
   ]
  },
  {
   "cell_type": "code",
   "execution_count": 7,
   "metadata": {
    "collapsed": true
   },
   "outputs": [
    {
     "name": "stdout",
     "output_type": "stream",
     "text": [
      "[1] \"ENSG00000164284\"\n",
      "[1] \"not in STRING\"\n",
      "[1] 0\n",
      "[1] \"ENSG00000113356\"\n",
      "[1] 313.4389\n",
      "[1] \"ENSG00000155858\"\n",
      "[1] 11.79969\n",
      "[1] \"ENSG00000158560\"\n",
      "[1] 71.32101\n",
      "[1] \"ENSG00000073670\"\n",
      "[1] 110.1186\n",
      "[1] \"ENSG00000233041\"\n",
      "[1] \"not in STRING\"\n",
      "[1] 0\n",
      "[1] \"ENSG00000132563\"\n",
      "[1] 103.7282\n",
      "[1] \"ENSG00000103222\"\n",
      "[1] 357.347\n",
      "[1] \"ENSG00000138031\"\n",
      "[1] 410.8016\n",
      "[1] \"ENSG00000163472\"\n",
      "[1] 262.6748\n",
      "[1] \"ENSG00000206503\"\n",
      "[1] 95.33725\n",
      "[1] \"ENSG00000175662\"\n",
      "[1] \"not in STRING\"\n",
      "[1] 0\n",
      "[1] \"ENSG00000130038\"\n",
      "[1] 40.11647\n",
      "[1] \"ENSG00000164690\"\n",
      "[1] 525.7541\n",
      "[1] \"ENSG00000137571\"\n",
      "[1] \"not in STRING\"\n",
      "[1] 0\n",
      "[1] \"ENSG00000123560\"\n",
      "[1] 391.6376\n",
      "[1] \"ENSG00000133710\"\n",
      "[1] 9.831671\n",
      "[1] \"ENSG00000119787\"\n",
      "[1] 42.15209\n",
      "[1] \"ENSG00000166436\"\n",
      "[1] \"not in STRING\"\n",
      "[1] 0\n",
      "[1] \"ENSG00000162231\"\n",
      "[1] 12.50082\n"
     ]
    }
   ],
   "source": [
    "### Run network scoring algorithm and save results\n",
    "\n",
    "# set up results (network scores) dataframe\n",
    "scores <- data.frame(matrix(0, nrow=ncol(Gds), ncol=1), row.names=colnames(Gds))\n",
    "colnames(scores) <- \"score\"\n",
    "scores$gene <- colnames(Gds)\n",
    "\n",
    "# run network scoring\n",
    "for (gene in rownames(scores)){\n",
    "    print(gene)\n",
    "    L <- 0\n",
    "    O <- 0\n",
    "    score <- 0\n",
    "    # using >0 as a binary condition\n",
    "    firstedge <- which((rownames(mat) %in% colnames(all_mat)[which(all_mat[gene, ] > 0)]) & (colnames(mat) != gene))\n",
    "    # gene has no interactions with other DEGs\n",
    "    if (length(firstedge) == 0){ \n",
    "        print('not in STRING') \n",
    "    }\n",
    "    for (node1 in firstedge){\n",
    "        L <- 1\n",
    "        O <- length(firstedge)\n",
    "        gene2 <- colnames(mat)[node1]\n",
    "        score <- score + Gds[1, gene2] * 1/L * 1/O\n",
    "        # using >0 as a binary condition, exclude edges for step direction\n",
    "        secondedge <- which((mat[gene2,] > 0) & !(colnames(mat) %in% colnames(mat)[firstedge]) & (colnames(mat) != gene))\n",
    "        for (node2 in secondedge){  \n",
    "            L <- 2\n",
    "            O <- length(secondedge)\n",
    "            gene3 <- colnames(mat)[node2]\n",
    "            score <- score + Gds[1, gene3] * 1/L * 1/O\n",
    "            # using >0 as a binary condition, exclude edges for step direction\n",
    "            thirdedge <- which((mat[gene3,] > 0) & !(colnames(mat) %in% colnames(mat)[firstedge]) & !(colnames(mat) %in% colnames(mat)[secondedge]) & (colnames(mat) != gene))\n",
    "            for(node3 in thirdedge){\n",
    "                L <- 3\n",
    "                O <- length(thirdedge)\n",
    "                gene4 <- colnames(mat)[node3]\n",
    "                score <- score + Gds[1, gene4] * 1/L * 1/O\n",
    "            }\n",
    "        }\n",
    "    }\n",
    "    print(score)\n",
    "    flush.console()\n",
    "    scores[gene,1] <- score\n",
    "}\n",
    "\n",
    "# save ranked results\n",
    "scores <- scores[order(-scores$score), ]\n",
    "write.csv(scores, file=\"STRING_NS_results.csv\", row.names=TRUE)"
   ]
  },
  {
   "cell_type": "code",
   "execution_count": null,
   "metadata": {},
   "outputs": [],
   "source": []
  }
 ],
 "metadata": {
  "kernelspec": {
   "display_name": "R",
   "language": "R",
   "name": "ir"
  },
  "language_info": {
   "codemirror_mode": "r",
   "file_extension": ".r",
   "mimetype": "text/x-r-source",
   "name": "R",
   "pygments_lexer": "r",
   "version": "4.0.1"
  }
 },
 "nbformat": 4,
 "nbformat_minor": 4
}
